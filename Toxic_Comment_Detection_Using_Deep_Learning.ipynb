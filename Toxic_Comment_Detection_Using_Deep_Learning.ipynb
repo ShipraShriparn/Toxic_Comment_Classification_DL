{
  "nbformat": 4,
  "nbformat_minor": 0,
  "metadata": {
    "colab": {
      "provenance": [],
      "authorship_tag": "ABX9TyM/jghT+7nBfvHpr2WPfBex",
      "include_colab_link": true
    },
    "kernelspec": {
      "name": "python3",
      "display_name": "Python 3"
    },
    "language_info": {
      "name": "python"
    }
  },
  "cells": [
    {
      "cell_type": "markdown",
      "metadata": {
        "id": "view-in-github",
        "colab_type": "text"
      },
      "source": [
        "<a href=\"https://colab.research.google.com/github/ShipraShriparn/Toxic_Comment_Classification_DL/blob/main/Toxic_Comment_Detection_Using_Deep_Learning.ipynb\" target=\"_parent\"><img src=\"https://colab.research.google.com/assets/colab-badge.svg\" alt=\"Open In Colab\"/></a>"
      ]
    },
    {
      "cell_type": "markdown",
      "source": [
        "##Toxic Comment Detection\n",
        "\n",
        "\n",
        "---\n",
        "\n",
        "A subtask of sentiment analysis is toxic comment classification.\n",
        "Toxic behavior, which includes rude, hateful, and threatening actions, is an issue that stops a productive comment thread, and turns it into a battle.So it is essential to recognize the threat and respond to it which makes the online space more healthy and valuable.\n",
        "\n",
        "Dataset Used - \"train.csv\"\n",
        "\n",
        "Link to The Dataset - https://drive.google.com/file/d/1ha2hGbcsTRUx9FvkfHdim-Afp9rkgfhw/view?usp=sharing\n",
        "\n",
        "###Steps to implement the prediction model :\n",
        "\n",
        "*   Data Collection and Extraction\n",
        "*   Exploratory Data Analysis (EDA)\n",
        "*   Data Exploration & Data Analysis\n",
        "*   Data Visualization\n",
        "*   Data Preprocessing & Data Cleaning\n",
        "*   Model Evaluation\n",
        "*   Building a predictive system"
      ],
      "metadata": {
        "id": "T1m-rFs7tVMP"
      }
    },
    {
      "cell_type": "markdown",
      "source": [
        "###Mounting to GDrive"
      ],
      "metadata": {
        "id": "RQHntPmM0Zkv"
      }
    },
    {
      "cell_type": "code",
      "source": [
        "from google.colab import drive\n",
        "drive.mount('/content/drive')"
      ],
      "metadata": {
        "colab": {
          "base_uri": "https://localhost:8080/"
        },
        "id": "S9JLaFOdt333",
        "outputId": "17da3be0-c113-4ae4-dc19-1e5b4b000ba5"
      },
      "execution_count": 4,
      "outputs": [
        {
          "output_type": "stream",
          "name": "stdout",
          "text": [
            "Drive already mounted at /content/drive; to attempt to forcibly remount, call drive.mount(\"/content/drive\", force_remount=True).\n"
          ]
        }
      ]
    },
    {
      "cell_type": "markdown",
      "source": [
        "###Uploading train.csv file"
      ],
      "metadata": {
        "id": "fbRwKJ9m0eeS"
      }
    },
    {
      "cell_type": "code",
      "source": [
        "file_path = '/content/drive/MyDrive/train.csv'\n",
        "data = pd.read_csv(file_path)"
      ],
      "metadata": {
        "id": "KWWESvmYt3vq"
      },
      "execution_count": 5,
      "outputs": []
    },
    {
      "cell_type": "markdown",
      "source": [
        "###Importing Liberaries"
      ],
      "metadata": {
        "id": "pH0jQExQ0nc7"
      }
    },
    {
      "cell_type": "code",
      "execution_count": 1,
      "metadata": {
        "id": "_4RUereVryJm"
      },
      "outputs": [],
      "source": [
        "import os\n",
        "import tensorflow as tf\n",
        "import pandas as pd\n",
        "import numpy as np"
      ]
    },
    {
      "cell_type": "markdown",
      "source": [
        "###Creating the Pandas Dataframe"
      ],
      "metadata": {
        "id": "i9KFny-R0ybO"
      }
    },
    {
      "cell_type": "code",
      "source": [
        "df = pd.read_csv(file_path)\n",
        "df"
      ],
      "metadata": {
        "colab": {
          "base_uri": "https://localhost:8080/",
          "height": 423
        },
        "id": "hhaeLO3zxpPu",
        "outputId": "15d08d7e-c411-43b6-dcb8-2653c5e5fc88"
      },
      "execution_count": 7,
      "outputs": [
        {
          "output_type": "execute_result",
          "data": {
            "text/plain": [
              "                      id                                       comment_text  \\\n",
              "0       0000997932d777bf  Explanation\\nWhy the edits made under my usern...   \n",
              "1       000103f0d9cfb60f  D'aww! He matches this background colour I'm s...   \n",
              "2       000113f07ec002fd  Hey man, I'm really not trying to edit war. It...   \n",
              "3       0001b41b1c6bb37e  \"\\nMore\\nI can't make any real suggestions on ...   \n",
              "4       0001d958c54c6e35  You, sir, are my hero. Any chance you remember...   \n",
              "...                  ...                                                ...   \n",
              "159566  ffe987279560d7ff  \":::::And for the second time of asking, when ...   \n",
              "159567  ffea4adeee384e90  You should be ashamed of yourself \\n\\nThat is ...   \n",
              "159568  ffee36eab5c267c9  Spitzer \\n\\nUmm, theres no actual article for ...   \n",
              "159569  fff125370e4aaaf3  And it looks like it was actually you who put ...   \n",
              "159570  fff46fc426af1f9a  \"\\nAnd ... I really don't think you understand...   \n",
              "\n",
              "        toxic  severe_toxic  obscene  threat  insult  identity_hate  \n",
              "0           0             0        0       0       0              0  \n",
              "1           0             0        0       0       0              0  \n",
              "2           0             0        0       0       0              0  \n",
              "3           0             0        0       0       0              0  \n",
              "4           0             0        0       0       0              0  \n",
              "...       ...           ...      ...     ...     ...            ...  \n",
              "159566      0             0        0       0       0              0  \n",
              "159567      0             0        0       0       0              0  \n",
              "159568      0             0        0       0       0              0  \n",
              "159569      0             0        0       0       0              0  \n",
              "159570      0             0        0       0       0              0  \n",
              "\n",
              "[159571 rows x 8 columns]"
            ],
            "text/html": [
              "\n",
              "\n",
              "  <div id=\"df-82a4a71a-1328-4dff-8ed8-482aa2794bd0\">\n",
              "    <div class=\"colab-df-container\">\n",
              "      <div>\n",
              "<style scoped>\n",
              "    .dataframe tbody tr th:only-of-type {\n",
              "        vertical-align: middle;\n",
              "    }\n",
              "\n",
              "    .dataframe tbody tr th {\n",
              "        vertical-align: top;\n",
              "    }\n",
              "\n",
              "    .dataframe thead th {\n",
              "        text-align: right;\n",
              "    }\n",
              "</style>\n",
              "<table border=\"1\" class=\"dataframe\">\n",
              "  <thead>\n",
              "    <tr style=\"text-align: right;\">\n",
              "      <th></th>\n",
              "      <th>id</th>\n",
              "      <th>comment_text</th>\n",
              "      <th>toxic</th>\n",
              "      <th>severe_toxic</th>\n",
              "      <th>obscene</th>\n",
              "      <th>threat</th>\n",
              "      <th>insult</th>\n",
              "      <th>identity_hate</th>\n",
              "    </tr>\n",
              "  </thead>\n",
              "  <tbody>\n",
              "    <tr>\n",
              "      <th>0</th>\n",
              "      <td>0000997932d777bf</td>\n",
              "      <td>Explanation\\nWhy the edits made under my usern...</td>\n",
              "      <td>0</td>\n",
              "      <td>0</td>\n",
              "      <td>0</td>\n",
              "      <td>0</td>\n",
              "      <td>0</td>\n",
              "      <td>0</td>\n",
              "    </tr>\n",
              "    <tr>\n",
              "      <th>1</th>\n",
              "      <td>000103f0d9cfb60f</td>\n",
              "      <td>D'aww! He matches this background colour I'm s...</td>\n",
              "      <td>0</td>\n",
              "      <td>0</td>\n",
              "      <td>0</td>\n",
              "      <td>0</td>\n",
              "      <td>0</td>\n",
              "      <td>0</td>\n",
              "    </tr>\n",
              "    <tr>\n",
              "      <th>2</th>\n",
              "      <td>000113f07ec002fd</td>\n",
              "      <td>Hey man, I'm really not trying to edit war. It...</td>\n",
              "      <td>0</td>\n",
              "      <td>0</td>\n",
              "      <td>0</td>\n",
              "      <td>0</td>\n",
              "      <td>0</td>\n",
              "      <td>0</td>\n",
              "    </tr>\n",
              "    <tr>\n",
              "      <th>3</th>\n",
              "      <td>0001b41b1c6bb37e</td>\n",
              "      <td>\"\\nMore\\nI can't make any real suggestions on ...</td>\n",
              "      <td>0</td>\n",
              "      <td>0</td>\n",
              "      <td>0</td>\n",
              "      <td>0</td>\n",
              "      <td>0</td>\n",
              "      <td>0</td>\n",
              "    </tr>\n",
              "    <tr>\n",
              "      <th>4</th>\n",
              "      <td>0001d958c54c6e35</td>\n",
              "      <td>You, sir, are my hero. Any chance you remember...</td>\n",
              "      <td>0</td>\n",
              "      <td>0</td>\n",
              "      <td>0</td>\n",
              "      <td>0</td>\n",
              "      <td>0</td>\n",
              "      <td>0</td>\n",
              "    </tr>\n",
              "    <tr>\n",
              "      <th>...</th>\n",
              "      <td>...</td>\n",
              "      <td>...</td>\n",
              "      <td>...</td>\n",
              "      <td>...</td>\n",
              "      <td>...</td>\n",
              "      <td>...</td>\n",
              "      <td>...</td>\n",
              "      <td>...</td>\n",
              "    </tr>\n",
              "    <tr>\n",
              "      <th>159566</th>\n",
              "      <td>ffe987279560d7ff</td>\n",
              "      <td>\":::::And for the second time of asking, when ...</td>\n",
              "      <td>0</td>\n",
              "      <td>0</td>\n",
              "      <td>0</td>\n",
              "      <td>0</td>\n",
              "      <td>0</td>\n",
              "      <td>0</td>\n",
              "    </tr>\n",
              "    <tr>\n",
              "      <th>159567</th>\n",
              "      <td>ffea4adeee384e90</td>\n",
              "      <td>You should be ashamed of yourself \\n\\nThat is ...</td>\n",
              "      <td>0</td>\n",
              "      <td>0</td>\n",
              "      <td>0</td>\n",
              "      <td>0</td>\n",
              "      <td>0</td>\n",
              "      <td>0</td>\n",
              "    </tr>\n",
              "    <tr>\n",
              "      <th>159568</th>\n",
              "      <td>ffee36eab5c267c9</td>\n",
              "      <td>Spitzer \\n\\nUmm, theres no actual article for ...</td>\n",
              "      <td>0</td>\n",
              "      <td>0</td>\n",
              "      <td>0</td>\n",
              "      <td>0</td>\n",
              "      <td>0</td>\n",
              "      <td>0</td>\n",
              "    </tr>\n",
              "    <tr>\n",
              "      <th>159569</th>\n",
              "      <td>fff125370e4aaaf3</td>\n",
              "      <td>And it looks like it was actually you who put ...</td>\n",
              "      <td>0</td>\n",
              "      <td>0</td>\n",
              "      <td>0</td>\n",
              "      <td>0</td>\n",
              "      <td>0</td>\n",
              "      <td>0</td>\n",
              "    </tr>\n",
              "    <tr>\n",
              "      <th>159570</th>\n",
              "      <td>fff46fc426af1f9a</td>\n",
              "      <td>\"\\nAnd ... I really don't think you understand...</td>\n",
              "      <td>0</td>\n",
              "      <td>0</td>\n",
              "      <td>0</td>\n",
              "      <td>0</td>\n",
              "      <td>0</td>\n",
              "      <td>0</td>\n",
              "    </tr>\n",
              "  </tbody>\n",
              "</table>\n",
              "<p>159571 rows × 8 columns</p>\n",
              "</div>\n",
              "      <button class=\"colab-df-convert\" onclick=\"convertToInteractive('df-82a4a71a-1328-4dff-8ed8-482aa2794bd0')\"\n",
              "              title=\"Convert this dataframe to an interactive table.\"\n",
              "              style=\"display:none;\">\n",
              "\n",
              "  <svg xmlns=\"http://www.w3.org/2000/svg\" height=\"24px\"viewBox=\"0 0 24 24\"\n",
              "       width=\"24px\">\n",
              "    <path d=\"M0 0h24v24H0V0z\" fill=\"none\"/>\n",
              "    <path d=\"M18.56 5.44l.94 2.06.94-2.06 2.06-.94-2.06-.94-.94-2.06-.94 2.06-2.06.94zm-11 1L8.5 8.5l.94-2.06 2.06-.94-2.06-.94L8.5 2.5l-.94 2.06-2.06.94zm10 10l.94 2.06.94-2.06 2.06-.94-2.06-.94-.94-2.06-.94 2.06-2.06.94z\"/><path d=\"M17.41 7.96l-1.37-1.37c-.4-.4-.92-.59-1.43-.59-.52 0-1.04.2-1.43.59L10.3 9.45l-7.72 7.72c-.78.78-.78 2.05 0 2.83L4 21.41c.39.39.9.59 1.41.59.51 0 1.02-.2 1.41-.59l7.78-7.78 2.81-2.81c.8-.78.8-2.07 0-2.86zM5.41 20L4 18.59l7.72-7.72 1.47 1.35L5.41 20z\"/>\n",
              "  </svg>\n",
              "      </button>\n",
              "\n",
              "\n",
              "\n",
              "    <div id=\"df-f47b85be-75e7-494e-b886-7a5f0697cdc4\">\n",
              "      <button class=\"colab-df-quickchart\" onclick=\"quickchart('df-f47b85be-75e7-494e-b886-7a5f0697cdc4')\"\n",
              "              title=\"Suggest charts.\"\n",
              "              style=\"display:none;\">\n",
              "\n",
              "<svg xmlns=\"http://www.w3.org/2000/svg\" height=\"24px\"viewBox=\"0 0 24 24\"\n",
              "     width=\"24px\">\n",
              "    <g>\n",
              "        <path d=\"M19 3H5c-1.1 0-2 .9-2 2v14c0 1.1.9 2 2 2h14c1.1 0 2-.9 2-2V5c0-1.1-.9-2-2-2zM9 17H7v-7h2v7zm4 0h-2V7h2v10zm4 0h-2v-4h2v4z\"/>\n",
              "    </g>\n",
              "</svg>\n",
              "      </button>\n",
              "    </div>\n",
              "\n",
              "<style>\n",
              "  .colab-df-quickchart {\n",
              "    background-color: #E8F0FE;\n",
              "    border: none;\n",
              "    border-radius: 50%;\n",
              "    cursor: pointer;\n",
              "    display: none;\n",
              "    fill: #1967D2;\n",
              "    height: 32px;\n",
              "    padding: 0 0 0 0;\n",
              "    width: 32px;\n",
              "  }\n",
              "\n",
              "  .colab-df-quickchart:hover {\n",
              "    background-color: #E2EBFA;\n",
              "    box-shadow: 0px 1px 2px rgba(60, 64, 67, 0.3), 0px 1px 3px 1px rgba(60, 64, 67, 0.15);\n",
              "    fill: #174EA6;\n",
              "  }\n",
              "\n",
              "  [theme=dark] .colab-df-quickchart {\n",
              "    background-color: #3B4455;\n",
              "    fill: #D2E3FC;\n",
              "  }\n",
              "\n",
              "  [theme=dark] .colab-df-quickchart:hover {\n",
              "    background-color: #434B5C;\n",
              "    box-shadow: 0px 1px 3px 1px rgba(0, 0, 0, 0.15);\n",
              "    filter: drop-shadow(0px 1px 2px rgba(0, 0, 0, 0.3));\n",
              "    fill: #FFFFFF;\n",
              "  }\n",
              "</style>\n",
              "\n",
              "    <script>\n",
              "      async function quickchart(key) {\n",
              "        const containerElement = document.querySelector('#' + key);\n",
              "        const charts = await google.colab.kernel.invokeFunction(\n",
              "            'suggestCharts', [key], {});\n",
              "      }\n",
              "    </script>\n",
              "\n",
              "      <script>\n",
              "\n",
              "function displayQuickchartButton(domScope) {\n",
              "  let quickchartButtonEl =\n",
              "    domScope.querySelector('#df-f47b85be-75e7-494e-b886-7a5f0697cdc4 button.colab-df-quickchart');\n",
              "  quickchartButtonEl.style.display =\n",
              "    google.colab.kernel.accessAllowed ? 'block' : 'none';\n",
              "}\n",
              "\n",
              "        displayQuickchartButton(document);\n",
              "      </script>\n",
              "      <style>\n",
              "    .colab-df-container {\n",
              "      display:flex;\n",
              "      flex-wrap:wrap;\n",
              "      gap: 12px;\n",
              "    }\n",
              "\n",
              "    .colab-df-convert {\n",
              "      background-color: #E8F0FE;\n",
              "      border: none;\n",
              "      border-radius: 50%;\n",
              "      cursor: pointer;\n",
              "      display: none;\n",
              "      fill: #1967D2;\n",
              "      height: 32px;\n",
              "      padding: 0 0 0 0;\n",
              "      width: 32px;\n",
              "    }\n",
              "\n",
              "    .colab-df-convert:hover {\n",
              "      background-color: #E2EBFA;\n",
              "      box-shadow: 0px 1px 2px rgba(60, 64, 67, 0.3), 0px 1px 3px 1px rgba(60, 64, 67, 0.15);\n",
              "      fill: #174EA6;\n",
              "    }\n",
              "\n",
              "    [theme=dark] .colab-df-convert {\n",
              "      background-color: #3B4455;\n",
              "      fill: #D2E3FC;\n",
              "    }\n",
              "\n",
              "    [theme=dark] .colab-df-convert:hover {\n",
              "      background-color: #434B5C;\n",
              "      box-shadow: 0px 1px 3px 1px rgba(0, 0, 0, 0.15);\n",
              "      filter: drop-shadow(0px 1px 2px rgba(0, 0, 0, 0.3));\n",
              "      fill: #FFFFFF;\n",
              "    }\n",
              "  </style>\n",
              "\n",
              "      <script>\n",
              "        const buttonEl =\n",
              "          document.querySelector('#df-82a4a71a-1328-4dff-8ed8-482aa2794bd0 button.colab-df-convert');\n",
              "        buttonEl.style.display =\n",
              "          google.colab.kernel.accessAllowed ? 'block' : 'none';\n",
              "\n",
              "        async function convertToInteractive(key) {\n",
              "          const element = document.querySelector('#df-82a4a71a-1328-4dff-8ed8-482aa2794bd0');\n",
              "          const dataTable =\n",
              "            await google.colab.kernel.invokeFunction('convertToInteractive',\n",
              "                                                     [key], {});\n",
              "          if (!dataTable) return;\n",
              "\n",
              "          const docLinkHtml = 'Like what you see? Visit the ' +\n",
              "            '<a target=\"_blank\" href=https://colab.research.google.com/notebooks/data_table.ipynb>data table notebook</a>'\n",
              "            + ' to learn more about interactive tables.';\n",
              "          element.innerHTML = '';\n",
              "          dataTable['output_type'] = 'display_data';\n",
              "          await google.colab.output.renderOutput(dataTable, element);\n",
              "          const docLink = document.createElement('div');\n",
              "          docLink.innerHTML = docLinkHtml;\n",
              "          element.appendChild(docLink);\n",
              "        }\n",
              "      </script>\n",
              "    </div>\n",
              "  </div>\n"
            ]
          },
          "metadata": {},
          "execution_count": 7
        }
      ]
    },
    {
      "cell_type": "markdown",
      "source": [
        "###Data Preprocessing and Vectorizing\n",
        "\n",
        "---\n",
        "\n",
        "\n",
        "\n",
        "> The TextVectorization layer allows you to convert raw text data into numerical representations that can be fed into a neural network.\n",
        "\n",
        "\n",
        "*   Tokenization\n",
        "*   Text Standardization\n",
        "*   Text Splitting\n",
        "*   Vocabulary Generation\n",
        "*   Vectorization\n",
        "\n",
        "\n",
        "\n"
      ],
      "metadata": {
        "id": "l4tr_F0I1J5Q"
      }
    },
    {
      "cell_type": "code",
      "source": [
        "from tensorflow.keras.layers import TextVectorization"
      ],
      "metadata": {
        "id": "SOkaoN-kx7nd"
      },
      "execution_count": 8,
      "outputs": []
    },
    {
      "cell_type": "markdown",
      "source": [
        "###Text classification\n",
        "\n",
        "\n",
        "\n",
        "---\n",
        "\n",
        "\n",
        "\n",
        "*   Extracting the 'comment_text' column from the DataFrame df and assigning it to the variable X.\n",
        "*   Extracting the values of all the columns from the third column onward (index 2 onwards) in the DataFrame df.\n",
        "\n",
        "\n"
      ],
      "metadata": {
        "id": "90_KrhgN17-s"
      }
    },
    {
      "cell_type": "code",
      "source": [
        "X = df['comment_text']\n",
        "y = df[df.columns[2:]].values"
      ],
      "metadata": {
        "id": "KMVQ2-g6x93E"
      },
      "execution_count": 9,
      "outputs": []
    },
    {
      "cell_type": "markdown",
      "source": [
        "###Limiting the vocabulary size and preventing memory or computational issues."
      ],
      "metadata": {
        "id": "r03oexWR2mhd"
      }
    },
    {
      "cell_type": "code",
      "source": [
        "Max_words = 160000"
      ],
      "metadata": {
        "id": "uU9b20SfyAdj"
      },
      "execution_count": 10,
      "outputs": []
    },
    {
      "cell_type": "markdown",
      "source": [
        "###Configuring a TextVectorization layer in TensorFlow/Keras for text preprocessing."
      ],
      "metadata": {
        "id": "YqLtMDTE3CpZ"
      }
    },
    {
      "cell_type": "code",
      "source": [
        "vectorizer = TextVectorization(max_tokens=Max_words,output_sequence_length=1800,output_mode='int')"
      ],
      "metadata": {
        "id": "hcCzSpXfyDaU"
      },
      "execution_count": 11,
      "outputs": []
    },
    {
      "cell_type": "markdown",
      "source": [
        "###Building the vocabulary\n",
        "\n",
        "\n",
        "---\n",
        "\n",
        "\n",
        "\n",
        "*    The adapt method in the TextVectorization layer is used to build the vocabulary based on the input data, which is essential for converting text into numerical representations.\n",
        "\n"
      ],
      "metadata": {
        "id": "6K8632cd3cEY"
      }
    },
    {
      "cell_type": "code",
      "source": [
        "vectorizer.adapt(X.values)"
      ],
      "metadata": {
        "id": "-YglJ34wyF5U"
      },
      "execution_count": 12,
      "outputs": []
    },
    {
      "cell_type": "markdown",
      "source": [
        " ###Returning the vocabulary (list of words) that was built by the TextVectorization layer.\n",
        "\n",
        "\n",
        "---\n",
        "\n",
        "\n",
        "\n",
        "*   To check which words were considered during preprocessing or to analyze the most frequent words in your text data.\n",
        "\n"
      ],
      "metadata": {
        "id": "mgjmcw4k3-lj"
      }
    },
    {
      "cell_type": "code",
      "source": [
        "vectorizer.get_vocabulary()"
      ],
      "metadata": {
        "colab": {
          "base_uri": "https://localhost:8080/"
        },
        "id": "bQRd9iSZyIA8",
        "outputId": "d5b25544-138a-45b0-95aa-e451e07636ed"
      },
      "execution_count": 13,
      "outputs": [
        {
          "output_type": "execute_result",
          "data": {
            "text/plain": [
              "['',\n",
              " '[UNK]',\n",
              " 'the',\n",
              " 'to',\n",
              " 'of',\n",
              " 'and',\n",
              " 'a',\n",
              " 'you',\n",
              " 'i',\n",
              " 'is',\n",
              " 'that',\n",
              " 'in',\n",
              " 'it',\n",
              " 'for',\n",
              " 'this',\n",
              " 'not',\n",
              " 'on',\n",
              " 'be',\n",
              " 'as',\n",
              " 'have',\n",
              " 'are',\n",
              " 'your',\n",
              " 'with',\n",
              " 'if',\n",
              " 'article',\n",
              " 'was',\n",
              " 'or',\n",
              " 'but',\n",
              " 'page',\n",
              " 'my',\n",
              " 'an',\n",
              " 'from',\n",
              " 'by',\n",
              " 'do',\n",
              " 'at',\n",
              " 'about',\n",
              " 'me',\n",
              " 'so',\n",
              " 'wikipedia',\n",
              " 'can',\n",
              " 'what',\n",
              " 'there',\n",
              " 'all',\n",
              " 'has',\n",
              " 'will',\n",
              " 'talk',\n",
              " 'please',\n",
              " 'would',\n",
              " 'its',\n",
              " 'no',\n",
              " 'one',\n",
              " 'just',\n",
              " 'like',\n",
              " 'they',\n",
              " 'he',\n",
              " 'dont',\n",
              " 'which',\n",
              " 'any',\n",
              " 'been',\n",
              " 'should',\n",
              " 'more',\n",
              " 'we',\n",
              " 'some',\n",
              " 'other',\n",
              " 'who',\n",
              " 'see',\n",
              " 'here',\n",
              " 'also',\n",
              " 'his',\n",
              " 'think',\n",
              " 'im',\n",
              " 'because',\n",
              " 'know',\n",
              " 'how',\n",
              " 'am',\n",
              " 'people',\n",
              " 'why',\n",
              " 'edit',\n",
              " 'articles',\n",
              " 'only',\n",
              " 'out',\n",
              " 'up',\n",
              " 'when',\n",
              " 'were',\n",
              " 'use',\n",
              " 'then',\n",
              " 'may',\n",
              " 'time',\n",
              " 'did',\n",
              " 'them',\n",
              " 'now',\n",
              " 'being',\n",
              " 'their',\n",
              " 'than',\n",
              " 'thanks',\n",
              " 'even',\n",
              " 'get',\n",
              " 'make',\n",
              " 'good',\n",
              " 'had',\n",
              " 'very',\n",
              " 'information',\n",
              " 'does',\n",
              " 'could',\n",
              " 'well',\n",
              " 'want',\n",
              " 'such',\n",
              " 'sources',\n",
              " 'way',\n",
              " 'name',\n",
              " 'these',\n",
              " 'deletion',\n",
              " 'pages',\n",
              " 'first',\n",
              " 'help',\n",
              " 'new',\n",
              " 'editing',\n",
              " 'source',\n",
              " 'go',\n",
              " 'need',\n",
              " 'say',\n",
              " 'section',\n",
              " 'edits',\n",
              " 'again',\n",
              " 'thank',\n",
              " 'where',\n",
              " 'user',\n",
              " 'made',\n",
              " 'many',\n",
              " 'much',\n",
              " 'really',\n",
              " 'used',\n",
              " 'most',\n",
              " 'discussion',\n",
              " 'find',\n",
              " 'same',\n",
              " 'ive',\n",
              " 'deleted',\n",
              " 'into',\n",
              " 'fuck',\n",
              " 'those',\n",
              " 'work',\n",
              " 'since',\n",
              " 'before',\n",
              " 'after',\n",
              " 'point',\n",
              " 'add',\n",
              " 'look',\n",
              " 'right',\n",
              " 'read',\n",
              " 'image',\n",
              " 'take',\n",
              " 'still',\n",
              " 'over',\n",
              " 'someone',\n",
              " 'him',\n",
              " 'two',\n",
              " 'back',\n",
              " 'too',\n",
              " 'fact',\n",
              " 'link',\n",
              " 'said',\n",
              " 'own',\n",
              " 'something',\n",
              " 'going',\n",
              " 'youre',\n",
              " 'blocked',\n",
              " 'list',\n",
              " 'stop',\n",
              " 'without',\n",
              " 'content',\n",
              " 'hi',\n",
              " 'under',\n",
              " 'editors',\n",
              " 'our',\n",
              " 'block',\n",
              " 'thats',\n",
              " 'us',\n",
              " 'added',\n",
              " 'utc',\n",
              " 'history',\n",
              " 'another',\n",
              " 'doesnt',\n",
              " 'removed',\n",
              " 'might',\n",
              " 'note',\n",
              " 'however',\n",
              " 'sure',\n",
              " 'place',\n",
              " 'never',\n",
              " 'done',\n",
              " 'welcome',\n",
              " 'her',\n",
              " 'case',\n",
              " 'put',\n",
              " 'personal',\n",
              " 'seems',\n",
              " 'reason',\n",
              " 'better',\n",
              " 'using',\n",
              " 'yourself',\n",
              " 'cant',\n",
              " 'actually',\n",
              " 'ask',\n",
              " 'comment',\n",
              " 'while',\n",
              " 'vandalism',\n",
              " 'feel',\n",
              " 'question',\n",
              " 'anything',\n",
              " 'believe',\n",
              " 'person',\n",
              " 'links',\n",
              " 'things',\n",
              " 'both',\n",
              " 'didnt',\n",
              " 'comments',\n",
              " 'best',\n",
              " 'ill',\n",
              " 'part',\n",
              " 'she',\n",
              " 'hope',\n",
              " 'policy',\n",
              " 'against',\n",
              " 'off',\n",
              " 'keep',\n",
              " 'already',\n",
              " 'free',\n",
              " 'wiki',\n",
              " 'thing',\n",
              " 'nothing',\n",
              " 'change',\n",
              " 'wrong',\n",
              " 'though',\n",
              " 'problem',\n",
              " 'remove',\n",
              " 'little',\n",
              " 'subject',\n",
              " '•',\n",
              " 'others',\n",
              " 'trying',\n",
              " 'tag',\n",
              " 'copyright',\n",
              " 'must',\n",
              " 'understand',\n",
              " 'above',\n",
              " 'few',\n",
              " 'anyone',\n",
              " 'speedy',\n",
              " 'last',\n",
              " 'issue',\n",
              " 'give',\n",
              " 'questions',\n",
              " 'agree',\n",
              " 'rather',\n",
              " 'years',\n",
              " 'let',\n",
              " '2',\n",
              " 'different',\n",
              " 'editor',\n",
              " 'long',\n",
              " 'reliable',\n",
              " 'making',\n",
              " 'world',\n",
              " 'come',\n",
              " 'sorry',\n",
              " 'isnt',\n",
              " 'reference',\n",
              " 'mean',\n",
              " 'continue',\n",
              " 'try',\n",
              " 'references',\n",
              " 'found',\n",
              " 'doing',\n",
              " 'text',\n",
              " 'great',\n",
              " 'leave',\n",
              " 'says',\n",
              " 'got',\n",
              " 'probably',\n",
              " 'english',\n",
              " 'original',\n",
              " 'every',\n",
              " '1',\n",
              " 'simply',\n",
              " 'word',\n",
              " 'users',\n",
              " 'fair',\n",
              " 'hello',\n",
              " 'either',\n",
              " 'check',\n",
              " 'least',\n",
              " 'adding',\n",
              " 'ip',\n",
              " 'show',\n",
              " 'site',\n",
              " 'state',\n",
              " 'else',\n",
              " 'delete',\n",
              " 'consensus',\n",
              " 'enough',\n",
              " 'request',\n",
              " 'far',\n",
              " 'opinion',\n",
              " 'created',\n",
              " 'around',\n",
              " 'life',\n",
              " 'day',\n",
              " 'between',\n",
              " 'through',\n",
              " 'example',\n",
              " 'view',\n",
              " 'yes',\n",
              " 'reverted',\n",
              " 'yet',\n",
              " 'etc',\n",
              " 'id',\n",
              " 'matter',\n",
              " 'shit',\n",
              " 'u',\n",
              " 'war',\n",
              " 'notable',\n",
              " 'contributions',\n",
              " 'given',\n",
              " 'thought',\n",
              " 'material',\n",
              " 'book',\n",
              " 'admin',\n",
              " 'write',\n",
              " 'post',\n",
              " 'down',\n",
              " 'account',\n",
              " 'clearly',\n",
              " 'having',\n",
              " 'encyclopedia',\n",
              " 'lot',\n",
              " 'support',\n",
              " 'real',\n",
              " 'bad',\n",
              " 'message',\n",
              " 'needs',\n",
              " 'images',\n",
              " 'tell',\n",
              " 'seem',\n",
              " 'called',\n",
              " 'maybe',\n",
              " 'evidence',\n",
              " 'instead',\n",
              " 'ever',\n",
              " '3',\n",
              " 'correct',\n",
              " 'saying',\n",
              " 'clear',\n",
              " 'always',\n",
              " 'number',\n",
              " 'important',\n",
              " 'further',\n",
              " 'quite',\n",
              " 'perhaps',\n",
              " 'old',\n",
              " '—',\n",
              " 'true',\n",
              " 'until',\n",
              " 'hate',\n",
              " 'states',\n",
              " 'whether',\n",
              " 'consider',\n",
              " 'written',\n",
              " 'claim',\n",
              " 'language',\n",
              " 'media',\n",
              " 'bit',\n",
              " 'once',\n",
              " 'guidelines',\n",
              " 'term',\n",
              " 'criteria',\n",
              " 'research',\n",
              " 'nigger',\n",
              " 'version',\n",
              " 'times',\n",
              " 'website',\n",
              " 'getting',\n",
              " 'fucking',\n",
              " 'theres',\n",
              " 'review',\n",
              " 'mention',\n",
              " 'pov',\n",
              " 'oh',\n",
              " 'makes',\n",
              " 'several',\n",
              " 'revert',\n",
              " 'considered',\n",
              " 'changes',\n",
              " 'cannot',\n",
              " 'words',\n",
              " 'idea',\n",
              " 'title',\n",
              " 'suck',\n",
              " 'address',\n",
              " 'notice',\n",
              " 'based',\n",
              " 'top',\n",
              " 'following',\n",
              " 'current',\n",
              " 'each',\n",
              " 'listed',\n",
              " 'means',\n",
              " 'possible',\n",
              " 'group',\n",
              " 'facts',\n",
              " 'regarding',\n",
              " 'care',\n",
              " 'rules',\n",
              " 'second',\n",
              " 'main',\n",
              " 'template',\n",
              " 'mentioned',\n",
              " 'general',\n",
              " 'year',\n",
              " 'attack',\n",
              " 'kind',\n",
              " 'whole',\n",
              " 'course',\n",
              " 'statement',\n",
              " 'left',\n",
              " 'hey',\n",
              " 'date',\n",
              " 'include',\n",
              " 'seen',\n",
              " 'three',\n",
              " 'issues',\n",
              " 'start',\n",
              " 'ass',\n",
              " 'ok',\n",
              " 'end',\n",
              " 'wikipedias',\n",
              " 'call',\n",
              " 'less',\n",
              " 'topic',\n",
              " 'gay',\n",
              " 'suggest',\n",
              " 'man',\n",
              " 'including',\n",
              " 'happy',\n",
              " 'sense',\n",
              " 'provide',\n",
              " 'create',\n",
              " 'big',\n",
              " 'days',\n",
              " 'myself',\n",
              " 'american',\n",
              " 'redirect',\n",
              " 'known',\n",
              " 'sentence',\n",
              " 'move',\n",
              " 'appropriate',\n",
              " 'changed',\n",
              " 'love',\n",
              " 'notability',\n",
              " 'explain',\n",
              " 'started',\n",
              " 'included',\n",
              " 'removing',\n",
              " 'project',\n",
              " 'anyway',\n",
              " 'info',\n",
              " 'mind',\n",
              " 'school',\n",
              " '2005',\n",
              " 'next',\n",
              " 'looking',\n",
              " 'although',\n",
              " 'picture',\n",
              " 'relevant',\n",
              " 'four',\n",
              " 'die',\n",
              " 'sign',\n",
              " 'answer',\n",
              " 'style',\n",
              " 'away',\n",
              " 'per',\n",
              " 'order',\n",
              " 'warning',\n",
              " 'wont',\n",
              " 'recent',\n",
              " 'youve',\n",
              " 'interest',\n",
              " 'community',\n",
              " 'summary',\n",
              " 'later',\n",
              " 'lol',\n",
              " 'claims',\n",
              " 'currently',\n",
              " 'discuss',\n",
              " 'interested',\n",
              " 'policies',\n",
              " 'attacks',\n",
              " 'especially',\n",
              " 'wish',\n",
              " 'wrote',\n",
              " 'able',\n",
              " 'specific',\n",
              " 'public',\n",
              " 'taken',\n",
              " 'writing',\n",
              " 'neutral',\n",
              " 'full',\n",
              " 'names',\n",
              " 'within',\n",
              " '4',\n",
              " 'position',\n",
              " 'related',\n",
              " 'below',\n",
              " 'line',\n",
              " 'wanted',\n",
              " 'during',\n",
              " 'appears',\n",
              " 'stuff',\n",
              " 'certainly',\n",
              " 'official',\n",
              " 'nice',\n",
              " 'itself',\n",
              " 'faith',\n",
              " 'everyone',\n",
              " 'wasnt',\n",
              " 'live',\n",
              " 'report',\n",
              " 'completely',\n",
              " 'according',\n",
              " 'unless',\n",
              " 'common',\n",
              " 'pretty',\n",
              " 'country',\n",
              " 'everything',\n",
              " 'looks',\n",
              " 'due',\n",
              " 'single',\n",
              " 'hes',\n",
              " 'process',\n",
              " 'contribs',\n",
              " 'news',\n",
              " 'involved',\n",
              " 'god',\n",
              " 'fat',\n",
              " 'therefore',\n",
              " 'obviously',\n",
              " 'remember',\n",
              " 'lead',\n",
              " 'hard',\n",
              " 'admins',\n",
              " 'came',\n",
              " 'edited',\n",
              " 'web',\n",
              " 'stay',\n",
              " 'learn',\n",
              " 'response',\n",
              " 'future',\n",
              " 'past',\n",
              " 'asked',\n",
              " 'truth',\n",
              " 'reading',\n",
              " 'power',\n",
              " '2006',\n",
              " 'stupid',\n",
              " 'entry',\n",
              " 'quote',\n",
              " 'posted',\n",
              " 'nor',\n",
              " 'talking',\n",
              " 'placed',\n",
              " '5',\n",
              " 'ago',\n",
              " 'similar',\n",
              " 'email',\n",
              " 'game',\n",
              " 'published',\n",
              " 'exactly',\n",
              " 'today',\n",
              " 'reasons',\n",
              " 'paragraph',\n",
              " 'faggot',\n",
              " 'city',\n",
              " 'argument',\n",
              " 'whatever',\n",
              " 'system',\n",
              " 'working',\n",
              " 'false',\n",
              " 'sandbox',\n",
              " 'moron',\n",
              " 'political',\n",
              " 'noticed',\n",
              " 'useful',\n",
              " 'havent',\n",
              " 'guy',\n",
              " 'high',\n",
              " 'regards',\n",
              " 'united',\n",
              " 'guess',\n",
              " 'appreciate',\n",
              " 'particular',\n",
              " 'deleting',\n",
              " 'form',\n",
              " 'books',\n",
              " 'government',\n",
              " 'dispute',\n",
              " 'five',\n",
              " 'british',\n",
              " 'reverting',\n",
              " 'major',\n",
              " 'problems',\n",
              " 'national',\n",
              " 'party',\n",
              " 'provided',\n",
              " 'often',\n",
              " 'ones',\n",
              " 'become',\n",
              " 'lets',\n",
              " 'tried',\n",
              " 'side',\n",
              " 'administrator',\n",
              " 'along',\n",
              " 'reply',\n",
              " 'almost',\n",
              " 'needed',\n",
              " 'stated',\n",
              " 'rule',\n",
              " 'took',\n",
              " 'search',\n",
              " 'knowledge',\n",
              " 'banned',\n",
              " 'cheers',\n",
              " 'taking',\n",
              " 'vandalize',\n",
              " '–',\n",
              " 'certain',\n",
              " '2007',\n",
              " 'username',\n",
              " 'fine',\n",
              " 'status',\n",
              " 'law',\n",
              " 'points',\n",
              " 'company',\n",
              " 'otherwise',\n",
              " 'uploaded',\n",
              " 'terms',\n",
              " 'explanation',\n",
              " 'generally',\n",
              " 'sort',\n",
              " 'entire',\n",
              " 'shows',\n",
              " 'description',\n",
              " 'whats',\n",
              " 'recently',\n",
              " 'follow',\n",
              " 'guys',\n",
              " '2008',\n",
              " 'likely',\n",
              " 'film',\n",
              " 'present',\n",
              " 'aware',\n",
              " 'saw',\n",
              " 'definition',\n",
              " 'cited',\n",
              " 'alone',\n",
              " 'google',\n",
              " 'music',\n",
              " 'soon',\n",
              " 'indeed',\n",
              " 'decide',\n",
              " 'ban',\n",
              " 'wp',\n",
              " 'appear',\n",
              " 'views',\n",
              " 'week',\n",
              " 'open',\n",
              " 'citation',\n",
              " 'contributing',\n",
              " 'actual',\n",
              " 'set',\n",
              " 'interesting',\n",
              " 'piece',\n",
              " 'c',\n",
              " 'short',\n",
              " 'white',\n",
              " 'told',\n",
              " 'theory',\n",
              " 'area',\n",
              " 'improve',\n",
              " 'external',\n",
              " 'small',\n",
              " 'story',\n",
              " 'contact',\n",
              " 'simple',\n",
              " '2004',\n",
              " 'various',\n",
              " 'allowed',\n",
              " 'moved',\n",
              " 'test',\n",
              " 'internet',\n",
              " 'obvious',\n",
              " 'family',\n",
              " 'band',\n",
              " 'attention',\n",
              " 'arent',\n",
              " 'proposed',\n",
              " 'jew',\n",
              " 'themselves',\n",
              " 'members',\n",
              " 'wouldnt',\n",
              " 'result',\n",
              " 'disagree',\n",
              " 'thus',\n",
              " 'cunt',\n",
              " 'went',\n",
              " 'type',\n",
              " 'sites',\n",
              " 'ie',\n",
              " 'context',\n",
              " 'mr',\n",
              " 'previous',\n",
              " 'nonsense',\n",
              " 'actions',\n",
              " 'tags',\n",
              " 'cite',\n",
              " 'works',\n",
              " '10',\n",
              " 'citations',\n",
              " 'jews',\n",
              " 'university',\n",
              " 're',\n",
              " 'enjoy',\n",
              " 'conflict',\n",
              " 'hours',\n",
              " 'shouldnt',\n",
              " 'proper',\n",
              " 'bias',\n",
              " 'category',\n",
              " 'job',\n",
              " 'longer',\n",
              " 'file',\n",
              " 'together',\n",
              " 'hell',\n",
              " 'sourced',\n",
              " 'sucks',\n",
              " 'addition',\n",
              " 'happened',\n",
              " 'avoid',\n",
              " 'automatically',\n",
              " 'author',\n",
              " 'valid',\n",
              " 'black',\n",
              " 'creating',\n",
              " 'deal',\n",
              " 'worked',\n",
              " 'npov',\n",
              " 'goes',\n",
              " 'himself',\n",
              " 'seriously',\n",
              " 'john',\n",
              " 'death',\n",
              " 'proof',\n",
              " 'respect',\n",
              " 'bitch',\n",
              " 'science',\n",
              " 'human',\n",
              " 'biased',\n",
              " 'comes',\n",
              " 'helpful',\n",
              " 'large',\n",
              " 'accepted',\n",
              " 'available',\n",
              " 'exist',\n",
              " 'series',\n",
              " 'tildes',\n",
              " 'opinions',\n",
              " 'hand',\n",
              " '6',\n",
              " 'indicate',\n",
              " 'sections',\n",
              " 'rights',\n",
              " 'necessary',\n",
              " 'act',\n",
              " 'meaning',\n",
              " 'attempt',\n",
              " 'accept',\n",
              " 'personally',\n",
              " 'statements',\n",
              " 'violation',\n",
              " 'months',\n",
              " 'criticism',\n",
              " 'accurate',\n",
              " 'action',\n",
              " 'usually',\n",
              " 'unblock',\n",
              " 'german',\n",
              " 'pig',\n",
              " 'cause',\n",
              " 'yeah',\n",
              " 'living',\n",
              " 'copy',\n",
              " 'debate',\n",
              " 'upon',\n",
              " 'assume',\n",
              " 'july',\n",
              " 'calling',\n",
              " 'standard',\n",
              " 'video',\n",
              " 'play',\n",
              " 'rest',\n",
              " 'tagged',\n",
              " 'doubt',\n",
              " 'sex',\n",
              " 'multiple',\n",
              " 'theyre',\n",
              " 'historical',\n",
              " 'serious',\n",
              " 'details',\n",
              " 'dick',\n",
              " 'youll',\n",
              " 'separate',\n",
              " 'manual',\n",
              " 'record',\n",
              " 'blocking',\n",
              " 'afd',\n",
              " 'explaining',\n",
              " 'situation',\n",
              " 'refer',\n",
              " 'wikiproject',\n",
              " 'heard',\n",
              " 'online',\n",
              " 'level',\n",
              " 'fix',\n",
              " 'asking',\n",
              " '7',\n",
              " 'complete',\n",
              " 'speak',\n",
              " 'lack',\n",
              " 'messages',\n",
              " 'none',\n",
              " 'prove',\n",
              " 'third',\n",
              " 'subjects',\n",
              " 'church',\n",
              " 'apparently',\n",
              " '2009',\n",
              " 'south',\n",
              " 'rationale',\n",
              " 'bullshit',\n",
              " 'data',\n",
              " 'directly',\n",
              " 'august',\n",
              " 'period',\n",
              " 'legal',\n",
              " 'behavior',\n",
              " 'difference',\n",
              " 'contribute',\n",
              " 'greek',\n",
              " 'huge',\n",
              " 'gets',\n",
              " 'wikipedian',\n",
              " 'couple',\n",
              " 'supposed',\n",
              " 'among',\n",
              " 'early',\n",
              " 'except',\n",
              " 'march',\n",
              " 'close',\n",
              " 'quality',\n",
              " 'space',\n",
              " 'meant',\n",
              " 'countries',\n",
              " 'run',\n",
              " 'team',\n",
              " 'uses',\n",
              " 'military',\n",
              " 'b',\n",
              " 'changing',\n",
              " 'existing',\n",
              " 'specifically',\n",
              " 'significant',\n",
              " '2010',\n",
              " 'pillars',\n",
              " 'fish',\n",
              " 'incorrect',\n",
              " 'culture',\n",
              " 'described',\n",
              " 'produce',\n",
              " 'jewish',\n",
              " '24',\n",
              " 'uk',\n",
              " 'disruptive',\n",
              " 'd',\n",
              " 'field',\n",
              " 'error',\n",
              " 'india',\n",
              " 'head',\n",
              " 'primary',\n",
              " 'friend',\n",
              " 'earlier',\n",
              " 'sometimes',\n",
              " 'outside',\n",
              " '20',\n",
              " 'purpose',\n",
              " 'administrators',\n",
              " 'modern',\n",
              " 'photo',\n",
              " 'table',\n",
              " 'particularly',\n",
              " 't',\n",
              " 'release',\n",
              " 'gave',\n",
              " 'box',\n",
              " 'cases',\n",
              " 'inclusion',\n",
              " 'born',\n",
              " 'pictures',\n",
              " 'readers',\n",
              " 'june',\n",
              " 'character',\n",
              " 'vote',\n",
              " 'okay',\n",
              " 'groups',\n",
              " 'anonymous',\n",
              " 'abuse',\n",
              " 'arguments',\n",
              " 'business',\n",
              " 'shall',\n",
              " 'sock',\n",
              " 'tutorial',\n",
              " 'january',\n",
              " 'friends',\n",
              " 'numbers',\n",
              " 'control',\n",
              " 'thinking',\n",
              " 'member',\n",
              " 'linked',\n",
              " 'happen',\n",
              " 'reported',\n",
              " 'contest',\n",
              " 'coming',\n",
              " 'takes',\n",
              " 'concerns',\n",
              " 'allow',\n",
              " 'wait',\n",
              " 'majority',\n",
              " 'giving',\n",
              " '8',\n",
              " 'bring',\n",
              " 'eg',\n",
              " 'worth',\n",
              " 'kill',\n",
              " 'totally',\n",
              " 'red',\n",
              " 'force',\n",
              " 'decided',\n",
              " 'discussed',\n",
              " 'house',\n",
              " 'finally',\n",
              " 'absolutely',\n",
              " 'putting',\n",
              " 'scientific',\n",
              " 'respond',\n",
              " 'mistake',\n",
              " 'decision',\n",
              " 'de',\n",
              " 'lost',\n",
              " 'entirely',\n",
              " '100',\n",
              " 'towards',\n",
              " 'merely',\n",
              " 'home',\n",
              " 'neither',\n",
              " 'dear',\n",
              " 'independent',\n",
              " 'international',\n",
              " 'song',\n",
              " 'balls',\n",
              " 'wants',\n",
              " 'possibly',\n",
              " 'unsigned',\n",
              " 'million',\n",
              " 'irrelevant',\n",
              " 'standards',\n",
              " 'april',\n",
              " '12',\n",
              " 'press',\n",
              " 'figure',\n",
              " 'organization',\n",
              " 'looked',\n",
              " 'inappropriate',\n",
              " 'chance',\n",
              " 'posting',\n",
              " 'population',\n",
              " 'advice',\n",
              " 'posts',\n",
              " 'north',\n",
              " 'events',\n",
              " 'unfortunately',\n",
              " 'named',\n",
              " 'album',\n",
              " ...]"
            ]
          },
          "metadata": {},
          "execution_count": 13
        }
      ]
    },
    {
      "cell_type": "markdown",
      "source": [
        "### Transforming the text data\n",
        "\n",
        "\n",
        "\n",
        "---\n",
        "\n",
        "* The vectorizer is applied to the entire array of text data, and the result is stored in the vectorized_text variable."
      ],
      "metadata": {
        "id": "curmNBsS4naT"
      }
    },
    {
      "cell_type": "code",
      "source": [
        "vectorized_text = vectorizer(X.values)\n",
        "vectorized_text"
      ],
      "metadata": {
        "colab": {
          "base_uri": "https://localhost:8080/"
        },
        "id": "USPGLg97yK1i",
        "outputId": "9a72e3fb-9944-4f84-c2e1-26c1c031c119"
      },
      "execution_count": 14,
      "outputs": [
        {
          "output_type": "execute_result",
          "data": {
            "text/plain": [
              "<tf.Tensor: shape=(159571, 1800), dtype=int64, numpy=\n",
              "array([[  645,    76,     2, ...,     0,     0,     0],\n",
              "       [    1,    54,  2489, ...,     0,     0,     0],\n",
              "       [  425,   441,    70, ...,     0,     0,     0],\n",
              "       ...,\n",
              "       [32445,  7392,   383, ...,     0,     0,     0],\n",
              "       [    5,    12,   534, ...,     0,     0,     0],\n",
              "       [    5,     8,   130, ...,     0,     0,     0]])>"
            ]
          },
          "metadata": {},
          "execution_count": 14
        }
      ]
    },
    {
      "cell_type": "code",
      "source": [
        "y.shape"
      ],
      "metadata": {
        "colab": {
          "base_uri": "https://localhost:8080/"
        },
        "id": "oiXzC1rtyNkU",
        "outputId": "61e729cb-1cb0-4514-f9c4-a8e0a2abd150"
      },
      "execution_count": 15,
      "outputs": [
        {
          "output_type": "execute_result",
          "data": {
            "text/plain": [
              "(159571, 6)"
            ]
          },
          "metadata": {},
          "execution_count": 15
        }
      ]
    },
    {
      "cell_type": "code",
      "source": [
        "vectorized_text.shape"
      ],
      "metadata": {
        "colab": {
          "base_uri": "https://localhost:8080/"
        },
        "id": "TLdSw8-mySQb",
        "outputId": "9fbef64d-13be-4889-c551-cd04409cb4fe"
      },
      "execution_count": 16,
      "outputs": [
        {
          "output_type": "execute_result",
          "data": {
            "text/plain": [
              "TensorShape([159571, 1800])"
            ]
          },
          "metadata": {},
          "execution_count": 16
        }
      ]
    },
    {
      "cell_type": "code",
      "source": [
        "dataset = tf.data.Dataset.from_tensor_slices((vectorized_text,y))\n",
        "dataset = dataset.cache()\n",
        "dataset = dataset.shuffle(160000)\n",
        "dataset = dataset.batch(16)\n",
        "dataset = dataset.prefetch(8) #helps prevent bottlenecks"
      ],
      "metadata": {
        "id": "e53xHCoByWKi"
      },
      "execution_count": 17,
      "outputs": []
    },
    {
      "cell_type": "code",
      "source": [
        "batch_x, batch_y = dataset.as_numpy_iterator().next()"
      ],
      "metadata": {
        "id": "AoUlkHlnyX_E"
      },
      "execution_count": 18,
      "outputs": []
    },
    {
      "cell_type": "code",
      "source": [
        "batch_x.shape"
      ],
      "metadata": {
        "colab": {
          "base_uri": "https://localhost:8080/"
        },
        "id": "e2g2o3vOyaM7",
        "outputId": "c8b390d2-c8a9-4457-dfec-33ef62426cdc"
      },
      "execution_count": 19,
      "outputs": [
        {
          "output_type": "execute_result",
          "data": {
            "text/plain": [
              "(16, 1800)"
            ]
          },
          "metadata": {},
          "execution_count": 19
        }
      ]
    },
    {
      "cell_type": "markdown",
      "source": [
        "###Traning the dataset"
      ],
      "metadata": {
        "id": "gaXVl62s7BLU"
      }
    },
    {
      "cell_type": "code",
      "source": [
        "train = dataset.take(int(len(dataset)*.7))\n",
        "val = dataset.skip(int(len(dataset)*.7)).take(int(len(dataset)*.2))\n",
        "test = dataset.skip(int(len(dataset)*.9)).take(int(len(dataset)*.1))"
      ],
      "metadata": {
        "id": "wYNR9xZHycFU"
      },
      "execution_count": 20,
      "outputs": []
    },
    {
      "cell_type": "code",
      "source": [
        "from tensorflow.keras.models import Sequential\n",
        "from tensorflow.keras.layers import LSTM, Dropout, Bidirectional, Dense, Embedding"
      ],
      "metadata": {
        "id": "L4YzBXkyyeH8"
      },
      "execution_count": 21,
      "outputs": []
    },
    {
      "cell_type": "markdown",
      "source": [
        "##Building Model"
      ],
      "metadata": {
        "id": "lkoqTtzK8Fvo"
      }
    },
    {
      "cell_type": "code",
      "source": [
        "model = Sequential()\n",
        "# Create the embedding layer\n",
        "model.add(Embedding(Max_words+1, 32))\n",
        "# Bidirectional LSTM Layer\n",
        "model.add(Bidirectional(LSTM(32, activation='tanh')))\n",
        "# Feature extractor Fully connected layers\n",
        "model.add(Dense(128, activation='relu'))\n",
        "model.add(Dense(256, activation='relu'))\n",
        "model.add(Dense(128, activation='relu'))\n",
        "# Final layer\n",
        "model.add(Dense(6, activation='sigmoid'))"
      ],
      "metadata": {
        "id": "daqbmo7zygAj"
      },
      "execution_count": 22,
      "outputs": []
    },
    {
      "cell_type": "code",
      "source": [
        "model.compile(loss='BinaryCrossentropy', optimizer='Adam')"
      ],
      "metadata": {
        "id": "xiQky4Egyhw7"
      },
      "execution_count": 23,
      "outputs": []
    },
    {
      "cell_type": "code",
      "source": [
        "model.summary()"
      ],
      "metadata": {
        "colab": {
          "base_uri": "https://localhost:8080/"
        },
        "id": "FBk1Gjkuyj0j",
        "outputId": "739b05b3-4996-4894-f936-07c6865aeef7"
      },
      "execution_count": 24,
      "outputs": [
        {
          "output_type": "stream",
          "name": "stdout",
          "text": [
            "Model: \"sequential\"\n",
            "_________________________________________________________________\n",
            " Layer (type)                Output Shape              Param #   \n",
            "=================================================================\n",
            " embedding (Embedding)       (None, None, 32)          5120032   \n",
            "                                                                 \n",
            " bidirectional (Bidirectiona  (None, 64)               16640     \n",
            " l)                                                              \n",
            "                                                                 \n",
            " dense (Dense)               (None, 128)               8320      \n",
            "                                                                 \n",
            " dense_1 (Dense)             (None, 256)               33024     \n",
            "                                                                 \n",
            " dense_2 (Dense)             (None, 128)               32896     \n",
            "                                                                 \n",
            " dense_3 (Dense)             (None, 6)                 774       \n",
            "                                                                 \n",
            "=================================================================\n",
            "Total params: 5,211,686\n",
            "Trainable params: 5,211,686\n",
            "Non-trainable params: 0\n",
            "_________________________________________________________________\n"
          ]
        }
      ]
    },
    {
      "cell_type": "code",
      "source": [
        "history = model.fit(train, epochs=5, validation_data=val)"
      ],
      "metadata": {
        "colab": {
          "base_uri": "https://localhost:8080/"
        },
        "id": "1sL-YMigymBS",
        "outputId": "f8f82c43-61fb-4610-d4f1-8a1064728657"
      },
      "execution_count": null,
      "outputs": [
        {
          "output_type": "stream",
          "name": "stdout",
          "text": [
            "Epoch 1/5\n",
            "  15/6981 [..............................] - ETA: 3:42:08 - loss: 0.0419"
          ]
        }
      ]
    },
    {
      "cell_type": "code",
      "source": [
        "from matplotlib import pyplot as plt"
      ],
      "metadata": {
        "id": "FCgvdyIIyodD"
      },
      "execution_count": null,
      "outputs": []
    },
    {
      "cell_type": "code",
      "source": [
        "plt.figure(figsize=(8,5))\n",
        "pd.DataFrame(history.history).plot()\n",
        "plt.show()"
      ],
      "metadata": {
        "id": "rLu_wTAEyqYU"
      },
      "execution_count": null,
      "outputs": []
    },
    {
      "cell_type": "code",
      "source": [
        "input_text = vectorizer('You freaking suck!')"
      ],
      "metadata": {
        "id": "X1N4lDgsysEa"
      },
      "execution_count": null,
      "outputs": []
    },
    {
      "cell_type": "code",
      "source": [
        "input_text"
      ],
      "metadata": {
        "id": "nj9MEd4tyu-r"
      },
      "execution_count": null,
      "outputs": []
    },
    {
      "cell_type": "code",
      "source": [
        "np.expand_dims(input_text,0)"
      ],
      "metadata": {
        "id": "ScaeQQLay3Lq"
      },
      "execution_count": null,
      "outputs": []
    },
    {
      "cell_type": "markdown",
      "source": [
        "###Model Prediction"
      ],
      "metadata": {
        "id": "Dgyoihg59Hey"
      }
    },
    {
      "cell_type": "code",
      "source": [
        "model.predict(np.expand_dims(input_text,0))"
      ],
      "metadata": {
        "id": "H_FgAZxey5oT"
      },
      "execution_count": null,
      "outputs": []
    },
    {
      "cell_type": "code",
      "source": [
        "batch = test.as_numpy_iterator().next()"
      ],
      "metadata": {
        "id": "uhssA2yly7oS"
      },
      "execution_count": null,
      "outputs": []
    },
    {
      "cell_type": "code",
      "source": [
        "batch_X, batch_y = test.as_numpy_iterator().next()"
      ],
      "metadata": {
        "id": "KmuMxw9uy93r"
      },
      "execution_count": null,
      "outputs": []
    },
    {
      "cell_type": "code",
      "source": [
        "res = model.predict(batch_X) #this is basically passing multiple comments"
      ],
      "metadata": {
        "id": "BQe1-8iuy_sr"
      },
      "execution_count": null,
      "outputs": []
    },
    {
      "cell_type": "code",
      "source": [
        "res"
      ],
      "metadata": {
        "id": "Lh0TJCnszBdU"
      },
      "execution_count": null,
      "outputs": []
    },
    {
      "cell_type": "code",
      "source": [
        "from tensorflow.keras.metrics import Precision, Recall, CategoricalAccuracy"
      ],
      "metadata": {
        "id": "73PrI78ozHbU"
      },
      "execution_count": null,
      "outputs": []
    },
    {
      "cell_type": "code",
      "source": [
        "pre = Precision()\n",
        "re = Recall()\n",
        "acc = CategoricalAccuracy()"
      ],
      "metadata": {
        "id": "J-6yu6DlzH-c"
      },
      "execution_count": null,
      "outputs": []
    },
    {
      "cell_type": "code",
      "source": [
        "for batch in test.as_numpy_iterator():\n",
        "    # Unpack the batch\n",
        "    X_true, y_true = batch\n",
        "    # Make a prediction\n",
        "    yhat = model.predict(X_true)\n",
        "\n",
        "    # Flatten the predictions\n",
        "    y_true = y_true.flatten()\n",
        "    yhat = yhat.flatten()\n",
        "\n",
        "    pre.update_state(y_true, yhat)\n",
        "    re.update_state(y_true, yhat)\n",
        "    acc.update_state(y_true, yhat)"
      ],
      "metadata": {
        "id": "cz6ay8OMzLIz"
      },
      "execution_count": null,
      "outputs": []
    },
    {
      "cell_type": "code",
      "source": [
        "print(f'Precision: {pre.result().numpy()}, Recall:{re.result().numpy()}, Accuracy:{acc.result().numpy()}')"
      ],
      "metadata": {
        "id": "KGDjwcSQzNJ0"
      },
      "execution_count": null,
      "outputs": []
    },
    {
      "cell_type": "markdown",
      "source": [
        "###Installing interactive model demos using Gradio and template rendering with Jinja2"
      ],
      "metadata": {
        "id": "3HWU59q09mmH"
      }
    },
    {
      "cell_type": "code",
      "source": [
        "!pip install gradio jinja2"
      ],
      "metadata": {
        "id": "ZdTmXEyezQc1"
      },
      "execution_count": null,
      "outputs": []
    },
    {
      "cell_type": "code",
      "source": [
        "import gradio as gr"
      ],
      "metadata": {
        "id": "k3Y5EmuozUUT"
      },
      "execution_count": null,
      "outputs": []
    },
    {
      "cell_type": "code",
      "source": [
        "model.save('toxicity.h5')"
      ],
      "metadata": {
        "id": "2iJV_oouzf2r"
      },
      "execution_count": null,
      "outputs": []
    },
    {
      "cell_type": "code",
      "source": [
        "model = tf.keras.models.load_model('toxicity.h5')"
      ],
      "metadata": {
        "id": "a7tY_Tk7zhpb"
      },
      "execution_count": null,
      "outputs": []
    },
    {
      "cell_type": "code",
      "source": [
        "input_str = vectorizer('I freaken hate you!')"
      ],
      "metadata": {
        "id": "3amhAlh7zjcb"
      },
      "execution_count": null,
      "outputs": []
    },
    {
      "cell_type": "code",
      "source": [
        "res = model.predict(np.expand_dims(input_str,0))\n",
        "res"
      ],
      "metadata": {
        "id": "oPzJTtBCzleT"
      },
      "execution_count": null,
      "outputs": []
    },
    {
      "cell_type": "code",
      "source": [
        "df.columns[2:]"
      ],
      "metadata": {
        "id": "4bQGM26azndK"
      },
      "execution_count": null,
      "outputs": []
    },
    {
      "cell_type": "code",
      "source": [
        "def score_comment(comment):\n",
        "    vectorized_comment = vectorizer([comment])\n",
        "    results = model.predict(vectorized_comment)\n",
        "\n",
        "    text = ''\n",
        "    for idx, col in enumerate(df.columns[2:]):\n",
        "        text += '{}: {}\\n'.format(col, results[0][idx]>0.5)\n",
        "\n",
        "    return text"
      ],
      "metadata": {
        "id": "v_KmE__ozpYU"
      },
      "execution_count": null,
      "outputs": []
    },
    {
      "cell_type": "code",
      "source": [
        "interface = gr.Interface(fn=score_comment,\n",
        "                         inputs=gr.inputs.Textbox(lines=2, placeholder='Comment to score'),\n",
        "                        outputs='text')"
      ],
      "metadata": {
        "id": "QsvHUTrPzrRM"
      },
      "execution_count": null,
      "outputs": []
    },
    {
      "cell_type": "code",
      "source": [
        "interface.launch(share=True)"
      ],
      "metadata": {
        "id": "zr0m4lteztYU"
      },
      "execution_count": null,
      "outputs": []
    },
    {
      "cell_type": "code",
      "source": [],
      "metadata": {
        "id": "052vjIWdzvSy"
      },
      "execution_count": null,
      "outputs": []
    }
  ]
}